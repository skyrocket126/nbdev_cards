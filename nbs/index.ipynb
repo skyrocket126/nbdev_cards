{
 "cells": [
  {
   "cell_type": "code",
   "execution_count": null,
   "metadata": {},
   "outputs": [],
   "source": [
    "#| hide\n",
    "from nbdev_cards.card import *"
   ]
  },
  {
   "cell_type": "markdown",
   "metadata": {},
   "source": [
    "# nbdev-cards\n",
    "\n",
    "> nbdev の使い方例です"
   ]
  },
  {
   "cell_type": "markdown",
   "metadata": {},
   "source": [
    "この index.ipynb はビルド後に Github の README と ドキュメントの index ページになります."
   ]
  },
  {
   "cell_type": "markdown",
   "metadata": {},
   "source": [
    "## 開発者向けガイドライン"
   ]
  },
  {
   "cell_type": "markdown",
   "metadata": {},
   "source": [
    "nbdev を使い始めるための有用なポイントをいくつか紹介します。"
   ]
  },
  {
   "cell_type": "markdown",
   "metadata": {},
   "source": [
    "### Install nbdev_cards in Development mode"
   ]
  },
  {
   "cell_type": "markdown",
   "metadata": {},
   "source": [
    "```sh\n",
    "# make sure nbdev_cards package is installed in development mode\n",
    "$ pip install -e .\n",
    "\n",
    "# make changes under nbs/ directory\n",
    "# ...\n",
    "\n",
    "# compile to have changes apply to nbdev_cards\n",
    "$ nbdev_prepare\n",
    "```"
   ]
  },
  {
   "cell_type": "markdown",
   "metadata": {},
   "source": [
    "## Usage"
   ]
  },
  {
   "cell_type": "markdown",
   "metadata": {},
   "source": [
    "### Installation"
   ]
  },
  {
   "cell_type": "markdown",
   "metadata": {},
   "source": [
    "Install latest from the GitHub [repository][repo]:\n",
    "\n",
    "```sh\n",
    "$ pip install git+https://github.com/skyrocket126/nbdev_cards.git\n",
    "```\n",
    "\n",
    "or from [conda][conda]\n",
    "\n",
    "```sh\n",
    "$ conda install -c skyrocket126 nbdev-cards\n",
    "```\n",
    "\n",
    "or from [pypi][pypi]\n",
    "\n",
    "\n",
    "```sh\n",
    "$ pip install nbdev-cards\n",
    "```\n",
    "\n",
    "\n",
    "[repo]: https://github.com/skyrocket126/nbdev_cards\n",
    "[docs]: https://skyrocket126.github.io/nbdev_cards/\n",
    "[pypi]: https://pypi.org/project/nbdev_cards/\n",
    "[conda]: https://anaconda.org/skyrocket126/nbdev_cards"
   ]
  },
  {
   "cell_type": "markdown",
   "metadata": {},
   "source": [
    "### Documentation"
   ]
  },
  {
   "cell_type": "markdown",
   "metadata": {},
   "source": [
    "ドキュメントはこの GitHub の[リポジトリ][repo]の[Pages][docs]にて公開されています。\n",
    "さらに、[conda][conda]および[pypi][pypi]には、それぞれパッケージマネージャー別のガイドラインも掲載されています。\n",
    "\n",
    "[repo]: https://github.com/skyrocket126/nbdev_cards\n",
    "[docs]: https://skyrocket126.github.io/nbdev_cards/\n",
    "[pypi]: https://pypi.org/project/nbdev_cards/\n",
    "[conda]: https://anaconda.org/skyrocket126/nbdev_cards"
   ]
  },
  {
   "cell_type": "markdown",
   "metadata": {},
   "source": [
    "## How to use"
   ]
  },
  {
   "cell_type": "markdown",
   "metadata": {},
   "source": [
    "このライブラリは、トランプのカードを作成・表示・比較するために使用できる Card クラスを提供します。"
   ]
  },
  {
   "cell_type": "code",
   "execution_count": null,
   "metadata": {},
   "outputs": [
    {
     "data": {
      "text/plain": [
       "3♥"
      ]
     },
     "execution_count": null,
     "metadata": {},
     "output_type": "execute_result"
    }
   ],
   "source": [
    "Card(1, 3)"
   ]
  },
  {
   "cell_type": "markdown",
   "metadata": {},
   "source": [
    "スート（柄）は以下のリストに従って番号が割り当てられています："
   ]
  },
  {
   "cell_type": "code",
   "execution_count": null,
   "metadata": {},
   "outputs": [
    {
     "data": {
      "text/plain": [
       "['♠', '♥', '♦', '♣']"
      ]
     },
     "execution_count": null,
     "metadata": {},
     "output_type": "execute_result"
    }
   ],
   "source": [
    "suits"
   ]
  }
 ],
 "metadata": {
  "kernelspec": {
   "display_name": "python3",
   "language": "python",
   "name": "python3"
  }
 },
 "nbformat": 4,
 "nbformat_minor": 4
}
